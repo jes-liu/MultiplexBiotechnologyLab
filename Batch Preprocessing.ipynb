{
 "cells": [
  {
   "cell_type": "markdown",
   "id": "66d23126",
   "metadata": {},
   "source": [
    "# Preprocessing batches of data"
   ]
  },
  {
   "cell_type": "markdown",
   "id": "76a892f3",
   "metadata": {},
   "source": [
    "#### This program takes in an .xlsx file with single-cell protein expression values as the first sheet and zero-cell protein expression values as the second sheet. The format should have the first column as the single-cell number and the rest of the columns should be protein expression values. This script will take in single-cell protein expression values that has a correlated slope when 2 proteins' expressions are compared and preprocess it by evening out the background to remove that correlation. \n",
    "\n",
    "#### The script will use the equation y = ((x - (x-bg)/std) / bg)*1000 where x is the original protein expression, y is the processed protein expression, bg is the background calculated by taking the mean of the lowest 3 expressions per batch row, and std is the standard deviation calculated by using the lowest 5 expression per protein column. It is multiplied by 1000 for scaling.\n",
    "\n",
    "#### The output is an excel file with preprocessed single-cell protein expression values as the first sheet and the preprocessed zero-cell protein expression values as the second sheet. The result should have lower protein expression values that should have a correlation of near 0 for any two proteins compared. The expression values should also be above the baseline/control expression values.\n",
    "\n",
    "#### A few values will need to be changed for each data. These are: input_path, protein_num, sheet_name in single_cell and zero_cell, and the output_path."
   ]
  },
  {
   "cell_type": "code",
   "execution_count": 1,
   "id": "2d218aab",
   "metadata": {},
   "outputs": [
    {
     "name": "stdout",
     "output_type": "stream",
     "text": [
      "File Read\n"
     ]
    }
   ],
   "source": [
    "import numpy as np\n",
    "import pandas as pd\n",
    "import statistics\n",
    "\n",
    "# Where the file should be located\n",
    "input_path  = 'C:/Users/jesse/OneDrive/Documents/Multiplex Lab/Data/NewADvsWT/Batch preprocessing sample.xlsx'\n",
    "\n",
    "\n",
    "# Number of proteins per panel within the data\n",
    "protein_num = [47, 45, 48, 42]\n",
    "\n",
    "\n",
    "# Separating the single-cell data from the zero-cell data. This is assuming that both sets of data are within the\n",
    "# same excel file. The parameter sheet_name is the name of the sheet in the file and should be changed accordingly\n",
    "single_cell = pd.read_excel(input_path, sheet_name = \"Single cells\")\n",
    "zero_cell = pd.read_excel(input_path, sheet_name = \"Zero cells\")\n",
    "\n",
    "\n",
    "# This will fill all empty cells with 0's that will not be included in calculations for quality control\n",
    "single_cell = single_cell.fillna(0)\n",
    "zero_cell = zero_cell.fillna(0)\n",
    "\n",
    "print('File Read')"
   ]
  },
  {
   "cell_type": "code",
   "execution_count": 2,
   "id": "1386f5db",
   "metadata": {},
   "outputs": [],
   "source": [
    "# Define the function that will be applied\n",
    "def slope_equation(df, std):\n",
    "    # df = a single row of a batch/panel of the data (denoted by the colors)\n",
    "    # std = standard deivation previously calculated\n",
    "    \n",
    "    df_ordered = sorted([i for i in df if i != 0])   # ordering the df without including 0's\n",
    "    bg = np.mean(df_ordered[0:3])  # background value    \n",
    "    \n",
    "    index = np.where(df == 0)  # find where df = 0\n",
    "    \n",
    "    signal = ((df - (df-bg)/std) / bg)*1000  # slope equation\n",
    "    signal[index[0]] = 0  # change value of index of where df = 0 back to 0\n",
    "    \n",
    "    # Return a row of processed values\n",
    "    return signal\n",
    "\n",
    "\n",
    "\n",
    "# Define the standard deviation of each column to be inputted into the apply function\n",
    "def get_std(df):\n",
    "    # df = an entire batch/panel of the data\n",
    "    \n",
    "    df_ordered = sorted([i for i in df if i != 0])  # ordering the df without including 0's\n",
    "    return np.std(df_ordered[0:5])  # standard deviation"
   ]
  },
  {
   "cell_type": "code",
   "execution_count": 3,
   "id": "fb7cbf5f",
   "metadata": {
    "collapsed": true
   },
   "outputs": [
    {
     "name": "stdout",
     "output_type": "stream",
     "text": [
      "File Preprocessed\n"
     ]
    },
    {
     "name": "stderr",
     "output_type": "stream",
     "text": [
      "C:\\Users\\jesse\\Anaconda3\\envs\\Bioinformatics\\lib\\site-packages\\numpy\\core\\fromnumeric.py:3441: RuntimeWarning: Mean of empty slice.\n",
      "  out=out, **kwargs)\n",
      "C:\\Users\\jesse\\Anaconda3\\envs\\Bioinformatics\\lib\\site-packages\\numpy\\core\\_methods.py:189: RuntimeWarning: invalid value encountered in double_scalars\n",
      "  ret = ret.dtype.type(ret / rcount)\n",
      "C:\\Users\\jesse\\Anaconda3\\envs\\Bioinformatics\\lib\\site-packages\\numpy\\core\\fromnumeric.py:3441: RuntimeWarning: Mean of empty slice.\n",
      "  out=out, **kwargs)\n",
      "C:\\Users\\jesse\\Anaconda3\\envs\\Bioinformatics\\lib\\site-packages\\numpy\\core\\_methods.py:189: RuntimeWarning: invalid value encountered in double_scalars\n",
      "  ret = ret.dtype.type(ret / rcount)\n",
      "C:\\Users\\jesse\\Anaconda3\\envs\\Bioinformatics\\lib\\site-packages\\numpy\\core\\fromnumeric.py:3441: RuntimeWarning: Mean of empty slice.\n",
      "  out=out, **kwargs)\n",
      "C:\\Users\\jesse\\Anaconda3\\envs\\Bioinformatics\\lib\\site-packages\\numpy\\core\\_methods.py:189: RuntimeWarning: invalid value encountered in double_scalars\n",
      "  ret = ret.dtype.type(ret / rcount)\n",
      "C:\\Users\\jesse\\Anaconda3\\envs\\Bioinformatics\\lib\\site-packages\\numpy\\core\\fromnumeric.py:3441: RuntimeWarning: Mean of empty slice.\n",
      "  out=out, **kwargs)\n",
      "C:\\Users\\jesse\\Anaconda3\\envs\\Bioinformatics\\lib\\site-packages\\numpy\\core\\_methods.py:189: RuntimeWarning: invalid value encountered in double_scalars\n",
      "  ret = ret.dtype.type(ret / rcount)\n",
      "C:\\Users\\jesse\\Anaconda3\\envs\\Bioinformatics\\lib\\site-packages\\numpy\\core\\fromnumeric.py:3441: RuntimeWarning: Mean of empty slice.\n",
      "  out=out, **kwargs)\n",
      "C:\\Users\\jesse\\Anaconda3\\envs\\Bioinformatics\\lib\\site-packages\\numpy\\core\\_methods.py:189: RuntimeWarning: invalid value encountered in double_scalars\n",
      "  ret = ret.dtype.type(ret / rcount)\n",
      "C:\\Users\\jesse\\Anaconda3\\envs\\Bioinformatics\\lib\\site-packages\\numpy\\core\\fromnumeric.py:3441: RuntimeWarning: Mean of empty slice.\n",
      "  out=out, **kwargs)\n",
      "C:\\Users\\jesse\\Anaconda3\\envs\\Bioinformatics\\lib\\site-packages\\numpy\\core\\_methods.py:189: RuntimeWarning: invalid value encountered in double_scalars\n",
      "  ret = ret.dtype.type(ret / rcount)\n"
     ]
    }
   ],
   "source": [
    "# Run the equation on every value per row for each batch\n",
    "std_single = single_cell.apply(get_std, axis=0)\n",
    "std_zero = zero_cell.apply(get_std, axis=0)\n",
    "\n",
    "start, end = 1, 1  # Starting and ending values. These include the 'single-cell' column\n",
    "for x in range(len(protein_num)):\n",
    "    # Using the slope equation on every value of each row where each row has its own background value\n",
    "    single_cell.iloc[:, start:(end+protein_num[x])] = single_cell.iloc[:, start:(end+protein_num[x])].apply(slope_equation,\n",
    "                                                                                std=std_single[start:(end+protein_num[x])],\n",
    "                                                                                axis=1)\n",
    "    zero_cell.iloc[:, start:(end+protein_num[x])] = zero_cell.iloc[:, start:(end+protein_num[x])].apply(slope_equation,\n",
    "                                                                                std=std_zero[start:(end+protein_num[x])],\n",
    "                                                                                axis=1)\n",
    "    start += protein_num[x]\n",
    "    end += protein_num[x]\n",
    "\n",
    "print('File Preprocessed')"
   ]
  },
  {
   "cell_type": "code",
   "execution_count": 4,
   "id": "28e08e38",
   "metadata": {},
   "outputs": [
    {
     "name": "stdout",
     "output_type": "stream",
     "text": [
      "File Saved\n"
     ]
    }
   ],
   "source": [
    "# Save the results in an excel file output with both single-cell and zero-cell sheets\n",
    "output_path = 'C:/Users/jesse/OneDrive/Documents/Multiplex Lab/Data/NewADvsWT/Batch preprocessing sample correct.xlsx'\n",
    "writer = pd.ExcelWriter(output_path, mode='w')\n",
    "\n",
    "single_cell.to_excel(writer, sheet_name = \"Single cells\", index=False)\n",
    "zero_cell.to_excel(writer, sheet_name = \"Zero cells\", index=False)\n",
    "\n",
    "writer.save()\n",
    "\n",
    "print('File Saved')"
   ]
  },
  {
   "cell_type": "markdown",
   "id": "14b5af06",
   "metadata": {},
   "source": [
    "# Subtraction preprocessing"
   ]
  },
  {
   "cell_type": "markdown",
   "id": "1c25f826",
   "metadata": {},
   "source": [
    "#### This portion will take the processsed single-cell data and subtract it by the average processed zero-cell data protein column + factor x SD where factor is the multiplicative variable for the SD. The input will be the preprocessed files and the output will be an .xlsx file that has a single sheet comprised of the resulting subtraction.\n",
    "\n",
    "#### The factor is a list of number of SD to be multiplied by. A list of [2, 3] as factor will run the script twice, each with a subtraction of a different factor x SD value. The final excel file output will be saved for each number of factors there are. \n",
    "\n",
    "#### Values to be changed: input_path, protein_num, factor, output_path"
   ]
  },
  {
   "cell_type": "code",
   "execution_count": 5,
   "id": "0cb66698",
   "metadata": {},
   "outputs": [
    {
     "name": "stdout",
     "output_type": "stream",
     "text": [
      "File Read\n"
     ]
    }
   ],
   "source": [
    "import numpy as np\n",
    "import pandas as pd\n",
    "\n",
    "# Where the file should be located\n",
    "input_path  = 'C:/Users/jesse/OneDrive/Documents/Multiplex Lab/Data/NewADvsWT/Batch preprocessing sample correct.xlsx'\n",
    "\n",
    "\n",
    "# Number of proteins per panel within the data\n",
    "protein_num = [47, 45, 48, 42]\n",
    "\n",
    "\n",
    "# Separating the single-cell data from the zero-cell data. This is assuming that both sets of data are within the\n",
    "# same excel file. The parameter sheet_name is the name of the sheet in the file and should be changed accordingly\n",
    "single_cell = pd.read_excel(input_path, sheet_name = \"Single cells\")\n",
    "zero_cell = pd.read_excel(input_path, sheet_name = \"Zero cells\")\n",
    "\n",
    "print('File Read')"
   ]
  },
  {
   "cell_type": "code",
   "execution_count": 6,
   "id": "cffb8706",
   "metadata": {},
   "outputs": [
    {
     "name": "stdout",
     "output_type": "stream",
     "text": [
      "File(s) Saved\n"
     ]
    }
   ],
   "source": [
    "# Subtracting preprocessed single-cell data by preprocessed zero-cell data + SD (standard deviation)\n",
    "\n",
    "# This variable is the multiplicative factor for the SD. For example, a factor of 2 will represent 2*SD that will be \n",
    "# added to the processed zero-cell background to be subtracted from the processed single-cell data\n",
    "factor = [2, 3]\n",
    "\n",
    "# The standard deviation adnd mean of the protein column\n",
    "SD = zero_cell.apply(np.std, axis=0)\n",
    "average = zero_cell.apply(statistics.harmonic_mean, axis=0)\n",
    "\n",
    "total_proteins = np.sum(protein_num) + 1\n",
    "\n",
    "\n",
    "for x in range(len(factor)):\n",
    "    subtracted = single_cell.iloc[:,1:total_proteins] - (average[1:total_proteins] \n",
    "                                                               + factor[x]*SD[1:total_proteins])\n",
    "    \n",
    "    subtracted.insert(loc = 0, column = single_cell.columns[0], value = range(1,(len(subtracted)+1)))\n",
    "\n",
    "    # Change negative and NAN/NULL values to 0\n",
    "    subtracted[subtracted < 0] = 0\n",
    "    subtracted = subtracted.fillna(0)\n",
    "\n",
    "\n",
    "    # Save the output\n",
    "    output_path = 'C:/Users/jesse/OneDrive/Documents/Multiplex Lab/Data/NewADvsWT/Batch preprocessing sample subtracted %sSD.xlsx' % factor[x]\n",
    "\n",
    "    subtracted.to_excel(output_path, index=False)\n",
    "\n",
    "print('File(s) Saved')"
   ]
  },
  {
   "cell_type": "code",
   "execution_count": null,
   "id": "e66f4a22",
   "metadata": {},
   "outputs": [],
   "source": []
  }
 ],
 "metadata": {
  "kernelspec": {
   "display_name": "Python 3",
   "language": "python",
   "name": "python3"
  },
  "language_info": {
   "codemirror_mode": {
    "name": "ipython",
    "version": 3
   },
   "file_extension": ".py",
   "mimetype": "text/x-python",
   "name": "python",
   "nbconvert_exporter": "python",
   "pygments_lexer": "ipython3",
   "version": "3.7.1"
  }
 },
 "nbformat": 4,
 "nbformat_minor": 5
}
